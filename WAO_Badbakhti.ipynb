{
 "cells": [
  {
   "cell_type": "code",
   "execution_count": 1,
   "metadata": {},
   "outputs": [],
   "source": [
    "import pandas as pd\n",
    "import numpy as np\n",
    "from datetime import datetime"
   ]
  },
  {
   "cell_type": "code",
   "execution_count": 2,
   "metadata": {},
   "outputs": [],
   "source": [
    "df = pd.read_excel('WAO 2 April.xlsx', sheet_name='Sheet1')"
   ]
  },
  {
   "cell_type": "code",
   "execution_count": null,
   "metadata": {},
   "outputs": [],
   "source": [
    "df"
   ]
  },
  {
   "cell_type": "code",
   "execution_count": 22,
   "metadata": {},
   "outputs": [
    {
     "name": "stdout",
     "output_type": "stream",
     "text": [
      "Please Enter BSC/RNC:B052E\n",
      "Please Enter Technology:2G\n"
     ]
    }
   ],
   "source": [
    "NE = input('Please Enter BSC/RNC:')\n",
    "#prov = input ('Please Enter Province Index:')\n",
    "Technology = input ('Please Enter Technology:')"
   ]
  },
  {
   "cell_type": "code",
   "execution_count": 23,
   "metadata": {},
   "outputs": [],
   "source": [
    "df2 = df[(df['NE']==NE) & (df['Technology']==Technology)]"
   ]
  },
  {
   "cell_type": "code",
   "execution_count": 24,
   "metadata": {
    "scrolled": true
   },
   "outputs": [],
   "source": [
    "df3 = []\n",
    "df3 = pd.DataFrame(df3)\n",
    "df3['StartofOutage'] = df2.groupby(by='GroupNumber')['StartOfOutage'].max()\n",
    "df3['EndofOutage'] = df2.groupby(by='GroupNumber')['EndOfOutage'].max()\n",
    "df3['CountofOutage'] = df2.groupby(by='GroupNumber')['CountOfOutageInGroup'].max()\n",
    "df3['Duration'] = df2.groupby(by='GroupNumber')['Duration'].mean()\n",
    "#df3['Province Index'] = prov\n",
    "df3['BSC/RNC'] = NE\n",
    "df3.reset_index(inplace=True)"
   ]
  },
  {
   "cell_type": "code",
   "execution_count": 25,
   "metadata": {},
   "outputs": [
    {
     "data": {
      "text/html": [
       "<div>\n",
       "<style scoped>\n",
       "    .dataframe tbody tr th:only-of-type {\n",
       "        vertical-align: middle;\n",
       "    }\n",
       "\n",
       "    .dataframe tbody tr th {\n",
       "        vertical-align: top;\n",
       "    }\n",
       "\n",
       "    .dataframe thead th {\n",
       "        text-align: right;\n",
       "    }\n",
       "</style>\n",
       "<table border=\"1\" class=\"dataframe\">\n",
       "  <thead>\n",
       "    <tr style=\"text-align: right;\">\n",
       "      <th></th>\n",
       "      <th>GroupNumber</th>\n",
       "      <th>StartofOutage</th>\n",
       "      <th>EndofOutage</th>\n",
       "      <th>CountofOutage</th>\n",
       "      <th>Duration</th>\n",
       "      <th>BSC/RNC</th>\n",
       "    </tr>\n",
       "  </thead>\n",
       "  <tbody>\n",
       "  </tbody>\n",
       "</table>\n",
       "</div>"
      ],
      "text/plain": [
       "Empty DataFrame\n",
       "Columns: [GroupNumber, StartofOutage, EndofOutage, CountofOutage, Duration, BSC/RNC]\n",
       "Index: []"
      ]
     },
     "execution_count": 25,
     "metadata": {},
     "output_type": "execute_result"
    }
   ],
   "source": [
    "df3"
   ]
  },
  {
   "cell_type": "code",
   "execution_count": null,
   "metadata": {},
   "outputs": [],
   "source": [
    "### run this section if you get too many results from df3\n",
    "\n",
    "startoutage = input ('Please Enter StartofOutage:(Ex: 2020-03-27 21:00:00)')\n",
    "df3 = df3[df3['StartofOutage']==startoutage]\n",
    "df3"
   ]
  },
  {
   "cell_type": "code",
   "execution_count": 17,
   "metadata": {},
   "outputs": [
    {
     "name": "stdout",
     "output_type": "stream",
     "text": [
      "Please Enter GroupNumber:7900\n"
     ]
    }
   ],
   "source": [
    "Groupnumber = input('Please Enter GroupNumber:')\n",
    "Groupnumber = int(Groupnumber)\n",
    "df4 = df2[df2['GroupNumber'] == Groupnumber]"
   ]
  },
  {
   "cell_type": "code",
   "execution_count": 18,
   "metadata": {},
   "outputs": [],
   "source": [
    "df4.drop(columns=['CellName','Site', 'Province Index', 'StartOfOutage', 'EndOfOutage', 'Duration', 'Technology', \n",
    "                 'CountOfOutageInGroup', 'GroupNumber'],inplace = True)"
   ]
  },
  {
   "cell_type": "code",
   "execution_count": 19,
   "metadata": {},
   "outputs": [
    {
     "name": "stderr",
     "output_type": "stream",
     "text": [
      "c:\\users\\milad\\appdata\\local\\programs\\python\\python37-32\\lib\\site-packages\\ipykernel_launcher.py:1: SettingWithCopyWarning: \n",
      "A value is trying to be set on a copy of a slice from a DataFrame\n",
      "\n",
      "See the caveats in the documentation: http://pandas.pydata.org/pandas-docs/stable/indexing.html#indexing-view-versus-copy\n",
      "  \"\"\"Entry point for launching an IPython kernel.\n"
     ]
    }
   ],
   "source": [
    "df4.drop_duplicates(inplace=True)"
   ]
  },
  {
   "cell_type": "code",
   "execution_count": 20,
   "metadata": {},
   "outputs": [
    {
     "data": {
      "text/html": [
       "<div>\n",
       "<style scoped>\n",
       "    .dataframe tbody tr th:only-of-type {\n",
       "        vertical-align: middle;\n",
       "    }\n",
       "\n",
       "    .dataframe tbody tr th {\n",
       "        vertical-align: top;\n",
       "    }\n",
       "\n",
       "    .dataframe thead th {\n",
       "        text-align: right;\n",
       "    }\n",
       "</style>\n",
       "<table border=\"1\" class=\"dataframe\">\n",
       "  <thead>\n",
       "    <tr style=\"text-align: right;\">\n",
       "      <th></th>\n",
       "      <th>NE</th>\n",
       "      <th>Location</th>\n",
       "      <th>Latitude</th>\n",
       "      <th>Longitude</th>\n",
       "    </tr>\n",
       "  </thead>\n",
       "  <tbody>\n",
       "    <tr>\n",
       "      <th>8230</th>\n",
       "      <td>Kermanshah_R831H</td>\n",
       "      <td>KS0021</td>\n",
       "      <td>34.679400</td>\n",
       "      <td>46.272700</td>\n",
       "    </tr>\n",
       "    <tr>\n",
       "      <th>8672</th>\n",
       "      <td>Kermanshah_R831H</td>\n",
       "      <td>KS0027</td>\n",
       "      <td>34.808010</td>\n",
       "      <td>46.493230</td>\n",
       "    </tr>\n",
       "    <tr>\n",
       "      <th>8903</th>\n",
       "      <td>Kermanshah_R831H</td>\n",
       "      <td>KS0472</td>\n",
       "      <td>34.761630</td>\n",
       "      <td>46.216620</td>\n",
       "    </tr>\n",
       "    <tr>\n",
       "      <th>9756</th>\n",
       "      <td>Kermanshah_R831H</td>\n",
       "      <td>KS0340</td>\n",
       "      <td>34.716760</td>\n",
       "      <td>46.175400</td>\n",
       "    </tr>\n",
       "    <tr>\n",
       "      <th>10322</th>\n",
       "      <td>Kermanshah_R831H</td>\n",
       "      <td>KS0889</td>\n",
       "      <td>34.827970</td>\n",
       "      <td>46.454610</td>\n",
       "    </tr>\n",
       "    <tr>\n",
       "      <th>14588</th>\n",
       "      <td>Kermanshah_R831H</td>\n",
       "      <td>KS0232</td>\n",
       "      <td>34.779080</td>\n",
       "      <td>46.432700</td>\n",
       "    </tr>\n",
       "    <tr>\n",
       "      <th>16421</th>\n",
       "      <td>Kermanshah_R831H</td>\n",
       "      <td>KS0835</td>\n",
       "      <td>34.593230</td>\n",
       "      <td>46.072250</td>\n",
       "    </tr>\n",
       "    <tr>\n",
       "      <th>17491</th>\n",
       "      <td>Kermanshah_R831H</td>\n",
       "      <td>KS0140</td>\n",
       "      <td>34.850390</td>\n",
       "      <td>46.525600</td>\n",
       "    </tr>\n",
       "    <tr>\n",
       "      <th>18513</th>\n",
       "      <td>Kermanshah_R831H</td>\n",
       "      <td>KS0475</td>\n",
       "      <td>34.764070</td>\n",
       "      <td>46.532100</td>\n",
       "    </tr>\n",
       "    <tr>\n",
       "      <th>19375</th>\n",
       "      <td>Kermanshah_R831H</td>\n",
       "      <td>KS0469</td>\n",
       "      <td>34.803310</td>\n",
       "      <td>46.563460</td>\n",
       "    </tr>\n",
       "    <tr>\n",
       "      <th>19860</th>\n",
       "      <td>Kermanshah_R831H</td>\n",
       "      <td>KS0258</td>\n",
       "      <td>34.795430</td>\n",
       "      <td>46.517850</td>\n",
       "    </tr>\n",
       "    <tr>\n",
       "      <th>20036</th>\n",
       "      <td>Kermanshah_R831H</td>\n",
       "      <td>KS0470</td>\n",
       "      <td>34.723930</td>\n",
       "      <td>46.198200</td>\n",
       "    </tr>\n",
       "    <tr>\n",
       "      <th>20248</th>\n",
       "      <td>Kermanshah_R831H</td>\n",
       "      <td>KS0203</td>\n",
       "      <td>34.859310</td>\n",
       "      <td>46.349560</td>\n",
       "    </tr>\n",
       "    <tr>\n",
       "      <th>20295</th>\n",
       "      <td>Kermanshah_R831H</td>\n",
       "      <td>KS0512</td>\n",
       "      <td>34.773080</td>\n",
       "      <td>46.355030</td>\n",
       "    </tr>\n",
       "    <tr>\n",
       "      <th>25235</th>\n",
       "      <td>Kermanshah_R831H</td>\n",
       "      <td>KS0823</td>\n",
       "      <td>34.743080</td>\n",
       "      <td>46.150040</td>\n",
       "    </tr>\n",
       "    <tr>\n",
       "      <th>26142</th>\n",
       "      <td>Kermanshah_R831H</td>\n",
       "      <td>KS0452</td>\n",
       "      <td>34.688810</td>\n",
       "      <td>46.147780</td>\n",
       "    </tr>\n",
       "    <tr>\n",
       "      <th>27096</th>\n",
       "      <td>Kermanshah_R831H</td>\n",
       "      <td>KS0396</td>\n",
       "      <td>34.890650</td>\n",
       "      <td>46.491140</td>\n",
       "    </tr>\n",
       "    <tr>\n",
       "      <th>35296</th>\n",
       "      <td>Kermanshah_R831H</td>\n",
       "      <td>KS0810</td>\n",
       "      <td>34.809752</td>\n",
       "      <td>46.500816</td>\n",
       "    </tr>\n",
       "  </tbody>\n",
       "</table>\n",
       "</div>"
      ],
      "text/plain": [
       "                     NE Location   Latitude  Longitude\n",
       "8230   Kermanshah_R831H   KS0021  34.679400  46.272700\n",
       "8672   Kermanshah_R831H   KS0027  34.808010  46.493230\n",
       "8903   Kermanshah_R831H   KS0472  34.761630  46.216620\n",
       "9756   Kermanshah_R831H   KS0340  34.716760  46.175400\n",
       "10322  Kermanshah_R831H   KS0889  34.827970  46.454610\n",
       "14588  Kermanshah_R831H   KS0232  34.779080  46.432700\n",
       "16421  Kermanshah_R831H   KS0835  34.593230  46.072250\n",
       "17491  Kermanshah_R831H   KS0140  34.850390  46.525600\n",
       "18513  Kermanshah_R831H   KS0475  34.764070  46.532100\n",
       "19375  Kermanshah_R831H   KS0469  34.803310  46.563460\n",
       "19860  Kermanshah_R831H   KS0258  34.795430  46.517850\n",
       "20036  Kermanshah_R831H   KS0470  34.723930  46.198200\n",
       "20248  Kermanshah_R831H   KS0203  34.859310  46.349560\n",
       "20295  Kermanshah_R831H   KS0512  34.773080  46.355030\n",
       "25235  Kermanshah_R831H   KS0823  34.743080  46.150040\n",
       "26142  Kermanshah_R831H   KS0452  34.688810  46.147780\n",
       "27096  Kermanshah_R831H   KS0396  34.890650  46.491140\n",
       "35296  Kermanshah_R831H   KS0810  34.809752  46.500816"
      ]
     },
     "execution_count": 20,
     "metadata": {},
     "output_type": "execute_result"
    }
   ],
   "source": [
    "df4"
   ]
  },
  {
   "cell_type": "code",
   "execution_count": 21,
   "metadata": {},
   "outputs": [],
   "source": [
    "df4.to_excel('Kermanshah_R831H.xlsx')"
   ]
  },
  {
   "cell_type": "code",
   "execution_count": null,
   "metadata": {},
   "outputs": [],
   "source": []
  }
 ],
 "metadata": {
  "kernelspec": {
   "display_name": "Python 3",
   "language": "python",
   "name": "python3"
  },
  "language_info": {
   "codemirror_mode": {
    "name": "ipython",
    "version": 3
   },
   "file_extension": ".py",
   "mimetype": "text/x-python",
   "name": "python",
   "nbconvert_exporter": "python",
   "pygments_lexer": "ipython3",
   "version": "3.7.0"
  }
 },
 "nbformat": 4,
 "nbformat_minor": 2
}
